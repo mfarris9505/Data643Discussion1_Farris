{
 "cells": [
  {
   "cell_type": "markdown",
   "metadata": {},
   "source": [
    "# Discussion 1: GoodReads- Recommending Good Books "
   ]
  },
  {
   "cell_type": "markdown",
   "metadata": {},
   "source": [
    "For this Project I have selected Good Reads (Bought out by Amazon).  This actually started out as a Social Networking site, and I believe didn't have much in the way of recommendations to begin with. "
   ]
  },
  {
   "cell_type": "markdown",
   "metadata": {},
   "source": [
    "## Who are your Target Users? "
   ]
  },
  {
   "cell_type": "markdown",
   "metadata": {},
   "source": [
    "Readers are the target users of all shapes and sizes. The majority of the components targets those \"more than average\" readers, but any one looking for a new book is welcome.\n",
    "\n",
    "*Book Sellers, such as Amazon are also  \"Users\" However, since their acquisition by Amazon there ink to \"find these good reads.\" Highlight Amazons own selection more than the other sellers/location. I believe this originally had more intended users, I will disregard for this discussion, as Amazon has taken over and list themselves not once, but Twice in the \"Find this Book\" section"
   ]
  },
  {
   "cell_type": "markdown",
   "metadata": {},
   "source": [
    "## What are their key goals?"
   ]
  },
  {
   "cell_type": "markdown",
   "metadata": {},
   "source": [
    "The Readers key goal would be to find a new book to read, while also keeping track of books previously read. Also, (though with Amazon as the key provider) to find a place to obtain/purchase books.\n"
   ]
  },
  {
   "cell_type": "markdown",
   "metadata": {},
   "source": [
    "## How can you help them accomplish those goals?"
   ]
  },
  {
   "cell_type": "markdown",
   "metadata": {},
   "source": [
    "\n",
    "Good Reads started out as Social Networking that provided users the ability to catalog and rate books they already read and ones they were currently reading. Users can alse use the site to store books, review them, ask questions, see recommendations based on their likes and genres. Furthermore, you can connect with groups, events,etc. to become more involved in the community. Good Reads has a wide variety of user options.  \n"
   ]
  },
  {
   "cell_type": "markdown",
   "metadata": {},
   "source": [
    "## Reverse Engineering: "
   ]
  },
  {
   "cell_type": "markdown",
   "metadata": {},
   "source": [
    "GoodReads bases all of it Recommendations off of User Reviews and Ratings based on a 5 star scale. Any user can find a recommendation, but must first find and rate 20 books that they have read. This provides a generic item-based collaborative filtering. However, as soon as you start adding to your shelf, the Recommendations increase and become tailored to your specific \"reads\". Much like Pandora, this allows users the ability to enhance their recommendations passed the item-based filtering, and allow a more content filtering, by creating diverse \"Shelves.\" From what I can tell, this site probably links in alot of the books contents (ie. keywords, genres,descriptors) to create a comprehensive selection tailored to a users \"shelve\"  "
   ]
  },
  {
   "cell_type": "markdown",
   "metadata": {},
   "source": [
    "## Recommendations"
   ]
  },
  {
   "cell_type": "markdown",
   "metadata": {},
   "source": [
    "Though I sorely doubt Good Reads would like to enhance much, as they have a large expanse of data and users to sort through, I think the best recommendation would be more user input. As of now, the only classification that have for users are the rating system, and organizing your \"shelves.\" All of it is user input oriented and can be tedious for the casual users. Making the shelves more generic, would incentivies the user, but at the cost of specificity.  "
   ]
  },
  {
   "cell_type": "markdown",
   "metadata": {},
   "source": []
  }
 ],
 "metadata": {
  "kernelspec": {
   "display_name": "Python 2",
   "language": "python",
   "name": "python2"
  },
  "language_info": {
   "codemirror_mode": {
    "name": "ipython",
    "version": 2
   },
   "file_extension": ".py",
   "mimetype": "text/x-python",
   "name": "python",
   "nbconvert_exporter": "python",
   "pygments_lexer": "ipython2",
   "version": "2.7.11"
  }
 },
 "nbformat": 4,
 "nbformat_minor": 0
}
